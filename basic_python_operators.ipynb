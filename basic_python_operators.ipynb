{
 "cells": [
  {
   "cell_type": "markdown",
   "metadata": {},
   "source": [
    "# Most Used Arithmetic Operators in Pythons"
   ]
  },
  {
   "cell_type": "markdown",
   "metadata": {},
   "source": [
    "## Arithmetic Operators"
   ]
  },
  {
   "cell_type": "code",
   "execution_count": 5,
   "metadata": {},
   "outputs": [
    {
     "name": "stdout",
     "output_type": "stream",
     "text": [
      "4\n",
      "strstrr\n",
      "[1, 2, 3, 4, 5, 1, 2]\n",
      "2\n",
      "9\n",
      "strstrstr\n",
      "[1, 2, 3, 1, 2, 3, 1, 2, 3]\n",
      "1.0\n",
      "1\n",
      "3\n"
     ]
    }
   ],
   "source": [
    "add = 2 + 2\n",
    "add_str = \"str\" + \"strr\"\n",
    "add_list = [1, 2, 3, 4, 5] + [1, 2]\n",
    "\n",
    "sub = 3 - 1\n",
    "\n",
    "mult = 3 * 3\n",
    "mult_str = \"str\" * 3\n",
    "mult_list = [1, 2, 3] * 3\n",
    "\n",
    "div = 2 / 2\n",
    "\n",
    "modulo = 10%3 # Gives you the the remainder of a division operation\n",
    "\n",
    "floor_division = 7 // 2 # Gives you the largest multiple, in this case it's 3 \n",
    "\n",
    "print(add)\n",
    "print(add_str)\n",
    "print(add_list)\n",
    "print(sub)\n",
    "print(mult)\n",
    "print(mult_str)\n",
    "print(mult_list)\n",
    "print(div)\n",
    "print(modulo)\n",
    "print(floor_division)"
   ]
  },
  {
   "cell_type": "markdown",
   "metadata": {},
   "source": [
    "## Comparison Operators\n",
    "\n",
    "Comparison operators help us compare different values to one another. They are very useful in conditional statements and can help you write more logically complex code."
   ]
  },
  {
   "cell_type": "code",
   "execution_count": 7,
   "metadata": {},
   "outputs": [
    {
     "data": {
      "text/plain": [
       "True"
      ]
     },
     "execution_count": 7,
     "metadata": {},
     "output_type": "execute_result"
    }
   ],
   "source": [
    "3 == 3 # Equals\n",
    "\n",
    "3 != 4 # Does not equal\n",
    "\n",
    "3 > 4 # Greater than\n",
    "\n",
    "3 < 5 # Less than\n",
    "\n",
    "2 >= 2 # Greater than or equal to\n",
    "\n",
    "4 <= 4 # Less than or equal to"
   ]
  },
  {
   "cell_type": "markdown",
   "metadata": {},
   "source": [
    "## Bitwise Operators\n",
    "\n",
    "These are from the Python website: [https://wiki.python.org/moin/BitwiseOperators](https://wiki.python.org/moin/BitwiseOperators)\n",
    "\n",
    "\n",
    "**x << y:** Returns x with the bits shifted to the left by y places (and new bits on the right-hand-side are zeros). This is the same as multiplying x by 2**y.\n",
    "\n",
    "**x >> y:** Returns x with the bits shifted to the right by y places. This is the same as //'ing x by 2**y\n",
    "\n",
    "**x & y:** Does a \"bitwise and\". Each bit of the output is 1 if the corresponding bit of x AND of y is 1, otherwise it's 0.\n",
    "\n",
    "**x | y:** Does a \"bitwise or\". Each bit of the output is 0 if the corresponding bit of x AND of y is 0, otherwise it's 1.\n",
    "\n",
    "**~ x:** Returns the complement of x - the number you get by switching each 1 for a 0 and each 0 for a 1. This is the same as -x - 1.\n",
    "\n",
    "**x ^ y:** Does a \"bitwise exclusive or\". Each bit of the output is the same as the corresponding bit in x if that bit in y is 0, and it's the complement of the bit in x if that bit in y is 1."
   ]
  },
  {
   "cell_type": "markdown",
   "metadata": {},
   "source": [
    "## Logical Operators\n",
    "\n",
    "These are used to string together different comparison operators. We'll be using this when we're filtering tables"
   ]
  },
  {
   "cell_type": "code",
   "execution_count": 9,
   "metadata": {},
   "outputs": [
    {
     "data": {
      "text/plain": [
       "False"
      ]
     },
     "execution_count": 9,
     "metadata": {},
     "output_type": "execute_result"
    }
   ],
   "source": [
    "3 == 3 and 2 <= 5 # Returns true if both operations are true\n",
    "3 == 3 or 2 <= 1 # Returns true if one operation is true\n",
    "not(3 == 3 and 2 <= 5) # Returns the opposite (False in this case)"
   ]
  },
  {
   "cell_type": "markdown",
   "metadata": {},
   "source": [
    "## Membership Operations\n",
    "\n",
    "These check to see if an object is a member of a collection of objects."
   ]
  },
  {
   "cell_type": "code",
   "execution_count": 12,
   "metadata": {},
   "outputs": [
    {
     "name": "stdout",
     "output_type": "stream",
     "text": [
      "True , True\n"
     ]
    }
   ],
   "source": [
    "print(\"T\" in \"TRDFSADFASD\", \",\", \"z\" not in [\"a\", 123, 14, 41, 41, 4])"
   ]
  }
 ],
 "metadata": {
  "kernelspec": {
   "display_name": "Python 3.10.6 ('minimal_ds')",
   "language": "python",
   "name": "python3"
  },
  "language_info": {
   "codemirror_mode": {
    "name": "ipython",
    "version": 3
   },
   "file_extension": ".py",
   "mimetype": "text/x-python",
   "name": "python",
   "nbconvert_exporter": "python",
   "pygments_lexer": "ipython3",
   "version": "3.10.6"
  },
  "orig_nbformat": 4,
  "vscode": {
   "interpreter": {
    "hash": "eaa8a2a751bde18d1c1012c48a42b6ba372b7ce18de4236acae484eb29d4e3c3"
   }
  }
 },
 "nbformat": 4,
 "nbformat_minor": 2
}
