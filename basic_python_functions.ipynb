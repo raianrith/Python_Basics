{
 "cells": [
  {
   "cell_type": "markdown",
   "metadata": {},
   "source": [
    "# Functions in Python"
   ]
  },
  {
   "cell_type": "markdown",
   "metadata": {},
   "source": [
    "## Functions\n",
    "\n",
    "If you find yourself writing the same code over and over again you might need a function. A function basically allows to you create a code snippet that takes inputs and produces outputs."
   ]
  },
  {
   "cell_type": "code",
   "execution_count": 2,
   "metadata": {},
   "outputs": [
    {
     "data": {
      "text/plain": [
       "7"
      ]
     },
     "execution_count": 2,
     "metadata": {},
     "output_type": "execute_result"
    }
   ],
   "source": [
    "\n",
    "def function_name(x, y, z):\n",
    "\treturn x + y + z # The \"return\" tells Python what to output from a function\n",
    "\n",
    "function_name(x = 1, y = 2, z = 3) # This is how we call a function\n",
    "function_name(1, 2, 3) # You can also call it like this by letting Python assume your arguments are in order \n",
    "function_name(1, 2, z = 4) # You can also not specify earlier arguments, but specify later ones\n",
    "#function_name(x = 1, 2, 3) # This is not valid (Python doesn't know what arguments to match 2 and 3 with\n"
   ]
  },
  {
   "cell_type": "markdown",
   "metadata": {},
   "source": [
    "\n",
    "The inputs `x, y, z` are what we called arguments."
   ]
  },
  {
   "cell_type": "markdown",
   "metadata": {},
   "source": [
    "## Control Statements\n",
    "\n",
    "Control statements generally allow us to repeat operations in Python. They're very useful and definitely worth remembering. "
   ]
  },
  {
   "cell_type": "markdown",
   "metadata": {},
   "source": [
    "### For Loops:"
   ]
  },
  {
   "cell_type": "code",
   "execution_count": null,
   "metadata": {},
   "outputs": [
    {
     "name": "stdout",
     "output_type": "stream",
     "text": [
      "5\n",
      "6\n",
      "7\n",
      "8\n",
      "9\n",
      "10\n",
      "11\n"
     ]
    }
   ],
   "source": [
    "the_list = range(3, 10) # range creates a sequence of values between the two arguments\n",
    "\n",
    "for i in the_list: # This is how you start a for loop\n",
    "    i += 2 # \"i\" represents the value of the sequence you're on\n",
    "    print(i)"
   ]
  },
  {
   "cell_type": "code",
   "execution_count": 3,
   "metadata": {},
   "outputs": [
    {
     "name": "stdout",
     "output_type": "stream",
     "text": [
      "i is now  3\n",
      "output is 4\n",
      "i is now  4\n",
      "output is 5\n",
      "i is now  5\n",
      "output is 6\n",
      "i is now  6\n",
      "output is 7\n",
      "i is now  7\n",
      "output is 8\n",
      "i is now  8\n",
      "output is 9\n",
      "i is now  9\n",
      "output is 10\n",
      "i is now  10\n",
      "output is 11\n",
      "i is now  11\n",
      "output is 12\n",
      "i is now  12\n",
      "output is 13\n",
      "i is now  13\n",
      "output is 14\n",
      "i is now  14\n",
      "output is 15\n",
      "i is now  15\n",
      "output is 16\n",
      "i is now  16\n",
      "output is 17\n",
      "i is now  17\n",
      "output is 18\n",
      "i is now  18\n",
      "output is 19\n",
      "i is now  19\n",
      "output is 20\n",
      "i is now  20\n",
      "output is 21\n",
      "i is now  21\n",
      "output is 22\n",
      "i is now  22\n",
      "output is 23\n",
      "i is now  23\n",
      "output is 24\n",
      "i is now  24\n",
      "output is 25\n",
      "i is now  25\n",
      "output is 26\n",
      "i is now  26\n",
      "output is 27\n",
      "i is now  27\n",
      "output is 28\n",
      "i is now  28\n",
      "output is 29\n",
      "i is now  29\n",
      "output is 30\n",
      "i is now  30\n",
      "output is 31\n",
      "i is now  31\n",
      "output is 32\n",
      "i is now  32\n",
      "output is 33\n",
      "i is now  33\n",
      "output is 34\n",
      "i is now  34\n",
      "output is 35\n",
      "i is now  35\n",
      "output is 36\n",
      "i is now  36\n",
      "output is 37\n",
      "i is now  37\n",
      "output is 38\n",
      "i is now  38\n",
      "output is 39\n",
      "i is now  39\n",
      "output is 40\n",
      "i is now  40\n",
      "output is 41\n",
      "i is now  41\n",
      "output is 42\n",
      "i is now  42\n",
      "output is 43\n",
      "i is now  43\n",
      "output is 44\n",
      "i is now  44\n",
      "output is 45\n",
      "i is now  45\n",
      "output is 46\n",
      "i is now  46\n",
      "output is 47\n",
      "i is now  47\n",
      "output is 48\n",
      "i is now  48\n",
      "output is 49\n",
      "i is now  49\n",
      "output is 50\n",
      "i is now  50\n",
      "output is 51\n",
      "i is now  51\n",
      "output is 52\n",
      "i is now  52\n",
      "output is 53\n",
      "i is now  53\n",
      "output is 54\n",
      "i is now  54\n",
      "output is 55\n",
      "i is now  55\n",
      "output is 56\n",
      "i is now  56\n",
      "output is 57\n",
      "i is now  57\n",
      "output is 58\n",
      "i is now  58\n",
      "output is 59\n",
      "i is now  59\n",
      "output is 60\n",
      "i is now  60\n",
      "output is 61\n",
      "i is now  61\n",
      "output is 62\n",
      "i is now  62\n",
      "output is 63\n",
      "i is now  63\n",
      "output is 64\n",
      "i is now  64\n",
      "output is 65\n",
      "i is now  65\n",
      "output is 66\n",
      "i is now  66\n",
      "output is 67\n",
      "i is now  67\n",
      "output is 68\n",
      "i is now  68\n",
      "output is 69\n",
      "i is now  69\n",
      "output is 70\n",
      "i is now  70\n",
      "output is 71\n",
      "i is now  71\n",
      "output is 72\n",
      "i is now  72\n",
      "output is 73\n",
      "i is now  73\n",
      "output is 74\n",
      "i is now  74\n",
      "output is 75\n",
      "i is now  75\n",
      "output is 76\n",
      "i is now  76\n",
      "output is 77\n",
      "i is now  77\n",
      "output is 78\n",
      "i is now  78\n",
      "output is 79\n",
      "i is now  79\n",
      "output is 80\n",
      "i is now  80\n",
      "output is 81\n",
      "i is now  81\n",
      "output is 82\n",
      "i is now  82\n",
      "output is 83\n",
      "i is now  83\n",
      "output is 84\n",
      "i is now  84\n",
      "output is 85\n",
      "i is now  85\n",
      "output is 86\n",
      "i is now  86\n",
      "output is 87\n",
      "i is now  87\n",
      "output is 88\n",
      "i is now  88\n",
      "output is 89\n",
      "i is now  89\n",
      "output is 90\n",
      "i is now  90\n",
      "output is 91\n",
      "i is now  91\n",
      "output is 92\n",
      "i is now  92\n",
      "output is 93\n",
      "i is now  93\n",
      "output is 94\n",
      "i is now  94\n",
      "output is 95\n",
      "i is now  95\n",
      "output is 96\n",
      "i is now  96\n",
      "output is 97\n",
      "i is now  97\n",
      "output is 98\n",
      "i is now  98\n",
      "output is 99\n",
      "i is now  99\n",
      "output is 100\n",
      "Loop has ended.\n"
     ]
    }
   ],
   "source": [
    "another_list = range(3,100)\n",
    "\n",
    "for i in another_list:\n",
    "    print(\"i is now \", i)\n",
    "    i += 1 # same as saying i = i + 1\n",
    "    print(\"output is\", i)\n",
    "print(\"Loop has ended.\")"
   ]
  },
  {
   "cell_type": "markdown",
   "metadata": {},
   "source": [
    "### While Loops:"
   ]
  },
  {
   "cell_type": "code",
   "execution_count": null,
   "metadata": {},
   "outputs": [
    {
     "name": "stdout",
     "output_type": "stream",
     "text": [
      "1\n",
      "2\n",
      "3\n",
      "4\n",
      "5\n"
     ]
    }
   ],
   "source": [
    "x = 0\n",
    "\n",
    "while x < 5: # The condition that has to be true for this loop to continue\n",
    "    x +=1 # These are the calculations that are performed each loop\n",
    "    print(x)"
   ]
  },
  {
   "cell_type": "markdown",
   "metadata": {},
   "source": [
    "### If - Then:"
   ]
  },
  {
   "cell_type": "code",
   "execution_count": null,
   "metadata": {},
   "outputs": [
    {
     "name": "stdout",
     "output_type": "stream",
     "text": [
      "x is less than y\n"
     ]
    }
   ],
   "source": [
    "x = 3\n",
    "y = 5\n",
    "\n",
    "if x == y:\n",
    "    print(\"x equals y\")\n",
    "elif x > y:\n",
    "    print(\"x is greater than y\")\n",
    "else: \n",
    "    print(\"x is less than y\")"
   ]
  },
  {
   "cell_type": "markdown",
   "metadata": {},
   "source": [
    "### Try - Except: \n",
    "Try will help you block errors from your code"
   ]
  },
  {
   "cell_type": "code",
   "execution_count": null,
   "metadata": {},
   "outputs": [
    {
     "name": "stdout",
     "output_type": "stream",
     "text": [
      "Can't divide by 0\n"
     ]
    }
   ],
   "source": [
    "try:\n",
    "    2 / 0 # You can't divide by 0 and this will throw an exception\n",
    "except ZeroDivisionError:\n",
    "    print(\"Can't divide by 0\")"
   ]
  },
  {
   "cell_type": "markdown",
   "metadata": {},
   "source": [
    "### With:\n",
    "    "
   ]
  },
  {
   "cell_type": "markdown",
   "metadata": {},
   "source": [
    "The best explanation of the `with` statement I've seen comes from [https://www.geeksforgeeks.org/with-statement-in-python/](https://www.geeksforgeeks.org/with-statement-in-python/)\n",
    "* [The] with statement helps avoiding bugs and leaks by ensuring that a resource is properly released when the code using the resource is completely executed. The with statement is   popularly used with file streams, as shown above and with Locks, sockets, subprocesses and telnets etc.\n",
    "    \n",
    "* A common usage of the `with` statement is to read files. You want to use this statement in order to make sure that the filestream is closed after the file is opened"
   ]
  },
  {
   "cell_type": "code",
   "execution_count": null,
   "metadata": {},
   "outputs": [
    {
     "ename": "FileNotFoundError",
     "evalue": "[Errno 2] No such file or directory: 'dog_breeds.txt'",
     "output_type": "error",
     "traceback": [
      "\u001b[1;31m---------------------------------------------------------------------------\u001b[0m\n",
      "\u001b[1;31mFileNotFoundError\u001b[0m                         Traceback (most recent call last)\n",
      "\u001b[1;32mc:\\Users\\raian\\OneDrive\\Documents\\Projects\\Python Projects\\Python_Tutorial\\basic_python_install_libraries.ipynb Cell 20\u001b[0m in \u001b[0;36m<cell line: 1>\u001b[1;34m()\u001b[0m\n",
      "\u001b[1;32m----> <a href='vscode-notebook-cell:/c%3A/Users/raian/OneDrive/Documents/Projects/Python%20Projects/Python_Tutorial/basic_python_install_libraries.ipynb#X31sZmlsZQ%3D%3D?line=0'>1</a>\u001b[0m \u001b[39mwith\u001b[39;00m \u001b[39mopen\u001b[39;49m(\u001b[39m'\u001b[39;49m\u001b[39mdog_breeds.txt\u001b[39;49m\u001b[39m'\u001b[39;49m, \u001b[39m'\u001b[39;49m\u001b[39mrb\u001b[39;49m\u001b[39m'\u001b[39;49m) \u001b[39mas\u001b[39;00m reader:\n",
      "\u001b[0;32m      <a href='vscode-notebook-cell:/c%3A/Users/raian/OneDrive/Documents/Projects/Python%20Projects/Python_Tutorial/basic_python_install_libraries.ipynb#X31sZmlsZQ%3D%3D?line=1'>2</a>\u001b[0m \t\u001b[39mprint\u001b[39m(\u001b[39m\"\u001b[39m\u001b[39mFile has been read\u001b[39m\u001b[39m\"\u001b[39m)\n",
      "\n",
      "\u001b[1;31mFileNotFoundError\u001b[0m: [Errno 2] No such file or directory: 'dog_breeds.txt'"
     ]
    }
   ],
   "source": [
    "\n",
    "with open('dog_breeds.txt', 'rb') as reader:\n",
    "\tprint(\"File has been read\")\n"
   ]
  },
  {
   "cell_type": "code",
   "execution_count": null,
   "metadata": {},
   "outputs": [],
   "source": []
  },
  {
   "cell_type": "code",
   "execution_count": null,
   "metadata": {},
   "outputs": [],
   "source": [
    "# Installing Libraries and Packages\n",
    "One of the reasons that Python is such a great programming language is that people are constantly creating things called Libraries. These are large lumps of code that you can call in order to execute very complicated operations. If you wanted to run a machine learning algorithm for example, you'd install a library in your computer and call that library.\n",
    "**Windows:** \n",
    "\n",
    "Open up \"Anaconda Prompt\" using the Windows start menu\n",
    "Type : Conda install numpy\n",
    "**Import Libraries**\n",
    "import numpy as np\n",
    "## Methods\n",
    "Methods are basically functions that are a part of classes. You call them in Python using a .. The highlighted section below is the method we're calling on the list class. \n",
    "test = [1, 2, 3, 4]\n",
    "\n",
    "test.append(3) # This calls a method from the \"list\" class\n",
    "## Control Statements\n",
    "\n",
    "Control statements generally allow us to repeat operations in Python. They're very useful and definitely worth remembering. \n",
    "### For Loops:\n",
    "the_list = range(3, 10) # range creates a sequence of values between the two arguments\n",
    "\n",
    "for i in the_list: # This is how you start a for loop\n",
    "    i += 2 # \"i\" represents the value of the sequence you're on\n",
    "    print(i)\n",
    "another_list = range(3,100)\n",
    "\n",
    "for i in another_list:\n",
    "    print(\"i is now \", i)\n",
    "    i += 1 # same as saying i = i + 1\n",
    "    print(\"output is\", i)\n",
    "### While Loops:\n",
    "x = 0\n",
    "\n",
    "while x < 5: # The condition that has to be true for this loop to continue\n",
    "    x +=1 # These are the calculations that are performed each loop\n",
    "    print(x)\n",
    "### If - Then:\n",
    "x = 3\n",
    "y = 5\n",
    "\n",
    "if x == y:\n",
    "    print(\"x equals y\")\n",
    "elif x > y:\n",
    "    print(\"x is greater than y\")\n",
    "else: \n",
    "    print(\"x is less than y\")\n",
    "### Try - Except: \n",
    "Try will help you block errors from your code\n",
    "try:\n",
    "    2 / 0 # You can't divide by 0 and this will throw an exception\n",
    "except ZeroDivisionError:\n",
    "    print(\"Can't divide by 0\")\n",
    "### With:\n",
    "    \n",
    "The best explanation of the `with` statement I've seen comes from [https://www.geeksforgeeks.org/with-statement-in-python/](https://www.geeksforgeeks.org/with-statement-in-python/)\n",
    "* [The] with statement helps avoiding bugs and leaks by ensuring that a resource is properly released when the code using the resource is completely executed. The with statement is   popularly used with file streams, as shown above and with Locks, sockets, subprocesses and telnets etc.\n",
    "    \n",
    "* A common usage of the `with` statement is to read files. You want to use this statement in order to make sure that the filestream is closed after the file is opened\n",
    "\n",
    "with open('dog_breeds.txt', 'rb') as reader:\n",
    "\tprint(\"File has been read\")\n",
    "\n"
   ]
  }
 ],
 "metadata": {
  "kernelspec": {
   "display_name": "Python 3.10.6 ('minimal_ds')",
   "language": "python",
   "name": "python3"
  },
  "language_info": {
   "codemirror_mode": {
    "name": "ipython",
    "version": 3
   },
   "file_extension": ".py",
   "mimetype": "text/x-python",
   "name": "python",
   "nbconvert_exporter": "python",
   "pygments_lexer": "ipython3",
   "version": "3.10.6"
  },
  "orig_nbformat": 4,
  "vscode": {
   "interpreter": {
    "hash": "eaa8a2a751bde18d1c1012c48a42b6ba372b7ce18de4236acae484eb29d4e3c3"
   }
  }
 },
 "nbformat": 4,
 "nbformat_minor": 2
}
